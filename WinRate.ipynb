{
 "cells": [
  {
   "cell_type": "code",
   "execution_count": 41,
   "id": "b12420e2-b45b-481c-a5ef-43d3bcff381d",
   "metadata": {},
   "outputs": [],
   "source": [
    "import json\n",
    "import os\n",
    "# Open the JSON file for reading\n",
    "with open('esports-data/mapping_data.json', 'r') as json_file:\n",
    "    data = json.load(json_file)\n",
    "\n",
    "# 'data' now contains the JSON data from the file\n"
   ]
  },
  {
   "cell_type": "code",
   "execution_count": null,
   "id": "10dbb032-971d-4a3d-acb9-6cf855ab66f8",
   "metadata": {},
   "outputs": [],
   "source": []
  },
  {
   "cell_type": "code",
   "execution_count": 42,
   "id": "91d85d71-d54b-4c6a-a393-7ffb5aedbe3d",
   "metadata": {},
   "outputs": [
    {
     "data": {
      "text/plain": [
       "{'esportsGameId': '110378429158160389',\n",
       " 'platformGameId': 'ESPORTSTMNT01:3416295',\n",
       " 'teamMapping': {'200': '105550026570060790', '100': '105550033967461806'},\n",
       " 'participantMapping': {'3': '107492116585043595',\n",
       "  '5': '105388980252039870',\n",
       "  '10': '110730240651882119',\n",
       "  '2': '108366332471078988',\n",
       "  '1': '108205130568869560',\n",
       "  '9': '106267600924403194',\n",
       "  '7': '106267599829820917',\n",
       "  '8': '107492063150003806',\n",
       "  '6': '105501816646382923',\n",
       "  '4': '102483272156027229'}}"
      ]
     },
     "execution_count": 42,
     "metadata": {},
     "output_type": "execute_result"
    }
   ],
   "source": [
    "data[0]"
   ]
  },
  {
   "cell_type": "code",
   "execution_count": 43,
   "id": "b741b243-6bf4-4e14-a2f5-bb31b5188022",
   "metadata": {},
   "outputs": [
    {
     "data": {
      "text/plain": [
       "'110378429158160389'"
      ]
     },
     "execution_count": 43,
     "metadata": {},
     "output_type": "execute_result"
    }
   ],
   "source": [
    "data[0]['esportsGameId']"
   ]
  },
  {
   "cell_type": "code",
   "execution_count": 44,
   "id": "9bb12ed9-02c7-4b42-8b56-e23a65b96ac8",
   "metadata": {},
   "outputs": [],
   "source": [
    "gameid = data[5000]['platformGameId']\n",
    "gameid = gameid[:13] + '_' + gameid[14:]"
   ]
  },
  {
   "cell_type": "code",
   "execution_count": 45,
   "id": "61565049-e065-459c-a96f-158cc7f65b6b",
   "metadata": {},
   "outputs": [
    {
     "name": "stdout",
     "output_type": "stream",
     "text": [
      "ESPORTSTMNT02_3158472\n"
     ]
    }
   ],
   "source": [
    "print(gameid)\n",
    "gameid = gameid[:12] + '1_3369698'"
   ]
  },
  {
   "cell_type": "code",
   "execution_count": 46,
   "id": "d2a1c438-79fd-4c4b-b4dc-708798dac7ee",
   "metadata": {},
   "outputs": [],
   "source": [
    "path = 'games/' + gameid +'.json'\n",
    "if os.path.exists(path):\n",
    "    with open(path, 'r') as json_file:\n",
    "        game_data = json.load(json_file) \n",
    "else :\n",
    "    print(path, 'not found')"
   ]
  },
  {
   "cell_type": "code",
   "execution_count": 47,
   "id": "a07b6a3d-b358-4863-b095-73164336752d",
   "metadata": {},
   "outputs": [
    {
     "data": {
      "text/plain": [
       "100"
      ]
     },
     "execution_count": 47,
     "metadata": {},
     "output_type": "execute_result"
    }
   ],
   "source": [
    "game_data[-1]['winningTeam']"
   ]
  },
  {
   "cell_type": "code",
   "execution_count": 48,
   "id": "914d235b-ef9c-45d0-8672-5cdd79c424fc",
   "metadata": {},
   "outputs": [
    {
     "data": {
      "text/plain": [
       "{'esportsGameId': '110378429158160389',\n",
       " 'platformGameId': 'ESPORTSTMNT01:3416295',\n",
       " 'teamMapping': {'200': '105550026570060790', '100': '105550033967461806'},\n",
       " 'participantMapping': {'3': '107492116585043595',\n",
       "  '5': '105388980252039870',\n",
       "  '10': '110730240651882119',\n",
       "  '2': '108366332471078988',\n",
       "  '1': '108205130568869560',\n",
       "  '9': '106267600924403194',\n",
       "  '7': '106267599829820917',\n",
       "  '8': '107492063150003806',\n",
       "  '6': '105501816646382923',\n",
       "  '4': '102483272156027229'}}"
      ]
     },
     "execution_count": 48,
     "metadata": {},
     "output_type": "execute_result"
    }
   ],
   "source": [
    "data[0]"
   ]
  },
  {
   "cell_type": "code",
   "execution_count": 85,
   "id": "ad969508-50da-4fce-b297-787c024ddda1",
   "metadata": {},
   "outputs": [],
   "source": [
    "win1 = 0\n",
    "win2 = 1\n",
    "if game_data[-1]['winningTeam'] == 100:\n",
    "    win1 = 1\n",
    "    win2 = 0\n",
    "    \n",
    "team1 = data[0]['teamMapping']['100']\n",
    "if team1 in WinRate:\n",
    "    WinRate[team1] =  {'TotalGames':WinRate[team1]['TotalGames']+1, 'TotalWins':WinRate[team1]['TotalWins']+win1}\n",
    "else:\n",
    "    WinRate[team1] =  {'TotalGames':1, 'TotalWins':win1}\n",
    "if team2 in WinRate:\n",
    "    WinRate[team2] =  {'TotalGames':WinRate[team2]['TotalGames']+1, 'TotalWins':WinRate[team2]['TotalWins']+win2}\n",
    "else: \n",
    "    WinRate[team2] =  {'TotalGames':1, 'TotalWins':win2}"
   ]
  },
  {
   "cell_type": "code",
   "execution_count": 86,
   "id": "f3c882a2-c5fd-491d-b6c7-5979f6620fc8",
   "metadata": {},
   "outputs": [
    {
     "data": {
      "text/plain": [
       "{'105550033967461806': {'TotalGames': 1, 'TotalWins': 1},\n",
       " '105550026570060790': {'TotalGames': 1, 'TotalWins': 0}}"
      ]
     },
     "execution_count": 86,
     "metadata": {},
     "output_type": "execute_result"
    }
   ],
   "source": [
    "WinRate "
   ]
  },
  {
   "cell_type": "code",
   "execution_count": 69,
   "id": "7373baf2-278a-4f61-8d91-75dd5a28d458",
   "metadata": {},
   "outputs": [],
   "source": [
    "team1 = data[0]['teamMapping']['100']"
   ]
  },
  {
   "cell_type": "code",
   "execution_count": 70,
   "id": "a30f61ca-9a95-4bcc-a9c0-29310959ab33",
   "metadata": {},
   "outputs": [
    {
     "data": {
      "text/plain": [
       "'105550033967461806'"
      ]
     },
     "execution_count": 70,
     "metadata": {},
     "output_type": "execute_result"
    }
   ],
   "source": [
    "team1"
   ]
  },
  {
   "cell_type": "code",
   "execution_count": 72,
   "id": "1494a850-8f04-4a14-98e1-7c391c1ecdda",
   "metadata": {},
   "outputs": [],
   "source": [
    "team2 = data[0]['teamMapping']['200']"
   ]
  },
  {
   "cell_type": "code",
   "execution_count": 73,
   "id": "1aa62460-4a57-4275-a618-3a72c7acca2d",
   "metadata": {},
   "outputs": [
    {
     "data": {
      "text/plain": [
       "'105550026570060790'"
      ]
     },
     "execution_count": 73,
     "metadata": {},
     "output_type": "execute_result"
    }
   ],
   "source": [
    "team2"
   ]
  },
  {
   "cell_type": "code",
   "execution_count": 76,
   "id": "951edd62-7e80-414e-aca4-93d3ec2f3c8f",
   "metadata": {},
   "outputs": [],
   "source": [
    "WinRate[team2] =  {'TotalGames':WinRate[team2]['TotalGames']+1, 'TotalWins':WinRate[team2]['TotalWins']+win2}"
   ]
  },
  {
   "cell_type": "code",
   "execution_count": 77,
   "id": "0abb6d3f-9082-45ec-a65f-f95689ade1c8",
   "metadata": {},
   "outputs": [
    {
     "data": {
      "text/plain": [
       "{'105550026570060790': {'TotalGames': 7, 'TotalWins': 1}}"
      ]
     },
     "execution_count": 77,
     "metadata": {},
     "output_type": "execute_result"
    }
   ],
   "source": [
    "WinRate"
   ]
  },
  {
   "cell_type": "code",
   "execution_count": 81,
   "id": "cf48d152-9da4-438f-9b1b-c1511628a5e2",
   "metadata": {},
   "outputs": [
    {
     "data": {
      "text/plain": [
       "False"
      ]
     },
     "execution_count": 81,
     "metadata": {},
     "output_type": "execute_result"
    }
   ],
   "source": [
    "team1 in WinRate"
   ]
  },
  {
   "cell_type": "code",
   "execution_count": 87,
   "id": "29f2e018-c35f-4df1-87fc-f4f1fa7e9ae6",
   "metadata": {},
   "outputs": [
    {
     "name": "stdout",
     "output_type": "stream",
     "text": [
      "\f",
      "\n"
     ]
    }
   ],
   "source": [
    "clear()"
   ]
  },
  {
   "cell_type": "code",
   "execution_count": 88,
   "id": "19995110-bae2-45f0-a680-3b2ddf6842c3",
   "metadata": {},
   "outputs": [
    {
     "data": {
      "text/plain": [
       "1"
      ]
     },
     "execution_count": 88,
     "metadata": {},
     "output_type": "execute_result"
    }
   ],
   "source": [
    "win1"
   ]
  },
  {
   "cell_type": "code",
   "execution_count": 117,
   "id": "dd7b0767-47b3-4240-92cb-e4045df8b7a4",
   "metadata": {},
   "outputs": [
    {
     "name": "stdout",
     "output_type": "stream",
     "text": [
      "0 %\n",
      "3 %\n",
      "7 %\n",
      "11 %\n",
      "15 %\n",
      "19 %\n",
      "23 %\n",
      "27 %\n",
      "31 %\n",
      "35 %\n",
      "39 %\n",
      "43 %\n",
      "47 %\n",
      "51 %\n",
      "55 %\n",
      "59 %\n",
      "63 %\n",
      "67 %\n",
      "71 %\n",
      "75 %\n",
      "79 %\n",
      "83 %\n",
      "87 %\n",
      "90 %\n",
      "94 %\n",
      "98 %\n"
     ]
    }
   ],
   "source": [
    "import json\n",
    "import os\n",
    "\n",
    "WinRate = {}\n",
    "# Open the JSON file for reading\n",
    "with open('esports-data/mapping_data.json', 'r') as json_file:\n",
    "    data = json.load(json_file)\n",
    "    \n",
    "    \n",
    "for i in range(len(data)):\n",
    "    gameid = data[i]['platformGameId']\n",
    "    gameid = gameid[:13] + '_' + gameid[14:]\n",
    "    path = 'games/' + gameid +'.json'\n",
    "    if os.path.exists(path):\n",
    "        with open(path, 'r') as json_file:\n",
    "            game_data = json.load(json_file) \n",
    "\n",
    "        \n",
    "        win1 = 0\n",
    "        win2 = 1\n",
    "        if game_data[-1]['winningTeam'] == 100:\n",
    "            win1 = 1\n",
    "            win2 = 0\n",
    "\n",
    "        team1 = data[i]['teamMapping']['100']\n",
    "        team1 = data[i]['teamMapping']['200']\n",
    "        if team1 in WinRate:\n",
    "            WinRate[team1] =  {'TotalGames':WinRate[team1]['TotalGames']+1, 'TotalWins':WinRate[team1]['TotalWins']+win1, 'winrate':round((WinRate[team1]['TotalWins']+win1)/(WinRate[team1]['TotalGames']+1)*100,2)}\n",
    "        else:\n",
    "            WinRate[team1] =  {'TotalGames':1, 'TotalWins':win1, 'winrate' : win1*100}\n",
    "        if team2 in WinRate:\n",
    "            WinRate[team2] =  {'TotalGames':WinRate[team2]['TotalGames']+1, 'TotalWins':WinRate[team2]['TotalWins']+win2, 'winrate':round((WinRate[team2]['TotalWins']+win2)/(WinRate[team2]['TotalGames']+1)*100,2)}\n",
    "        else: \n",
    "            WinRate[team2] =  {'TotalGames':1, 'TotalWins':win2, 'winrate' : win2*100}\n",
    "\n",
    "    if i%1000 == 0:\n",
    "        print(int(i/len(data)*100), '%')\n",
    "        \n",
    "    \n",
    "\n",
    "\n",
    "    "
   ]
  },
  {
   "cell_type": "code",
   "execution_count": 118,
   "id": "7fcb10dc-072b-4a42-8e5f-aa394f7868fe",
   "metadata": {},
   "outputs": [
    {
     "data": {
      "text/plain": [
       "{'102787200149928963': {'TotalGames': 12, 'TotalWins': 5, 'winrate': 41.67},\n",
       " '105550026570060790': {'TotalGames': 222, 'TotalWins': 102, 'winrate': 45.95},\n",
       " '108078422885368642': {'TotalGames': 6, 'TotalWins': 4, 'winrate': 66.67},\n",
       " '107467827374313054': {'TotalGames': 1, 'TotalWins': 1, 'winrate': 100},\n",
       " '110534696811298545': {'TotalGames': 5, 'TotalWins': 2, 'winrate': 40.0},\n",
       " '110534728305628996': {'TotalGames': 4, 'TotalWins': 2, 'winrate': 50.0},\n",
       " '105521674055625312': {'TotalGames': 8, 'TotalWins': 5, 'winrate': 62.5},\n",
       " '110534732558665825': {'TotalGames': 3, 'TotalWins': 3, 'winrate': 100.0},\n",
       " '107067065368380132': {'TotalGames': 9, 'TotalWins': 7, 'winrate': 77.78},\n",
       " '105521706535388095': {'TotalGames': 13, 'TotalWins': 5, 'winrate': 38.46},\n",
       " '110424394375218208': {'TotalGames': 11, 'TotalWins': 6, 'winrate': 54.55},\n",
       " '107467834753797729': {'TotalGames': 2, 'TotalWins': 0, 'winrate': 0.0},\n",
       " '107580497041999074': {'TotalGames': 5, 'TotalWins': 1, 'winrate': 20.0},\n",
       " '107580483738977500': {'TotalGames': 5, 'TotalWins': 2, 'winrate': 40.0},\n",
       " '109783149221216052': {'TotalGames': 5, 'TotalWins': 2, 'winrate': 40.0},\n",
       " '110534700622694005': {'TotalGames': 2, 'TotalWins': 2, 'winrate': 100.0},\n",
       " '105520786527322647': {'TotalGames': 10, 'TotalWins': 5, 'winrate': 50.0},\n",
       " '109539675734129088': {'TotalGames': 5, 'TotalWins': 3, 'winrate': 60.0},\n",
       " '105520822049210915': {'TotalGames': 9, 'TotalWins': 7, 'winrate': 77.78},\n",
       " '109981650516317055': {'TotalGames': 7, 'TotalWins': 1, 'winrate': 14.29},\n",
       " '107128093558481418': {'TotalGames': 17, 'TotalWins': 8, 'winrate': 47.06},\n",
       " '109981647134921596': {'TotalGames': 2, 'TotalWins': 1, 'winrate': 50.0},\n",
       " '110733877357854829': {'TotalGames': 4, 'TotalWins': 2, 'winrate': 50.0},\n",
       " '110534714934488523': {'TotalGames': 4, 'TotalWins': 3, 'winrate': 75.0},\n",
       " '110733889090164854': {'TotalGames': 3, 'TotalWins': 2, 'winrate': 66.67},\n",
       " '105520796734358045': {'TotalGames': 6, 'TotalWins': 2, 'winrate': 33.33},\n",
       " '107179740624168899': {'TotalGames': 5, 'TotalWins': 2, 'winrate': 40.0},\n",
       " '107467803833323099': {'TotalGames': 1, 'TotalWins': 0, 'winrate': 0},\n",
       " '107467794614674479': {'TotalGames': 4, 'TotalWins': 4, 'winrate': 100.0},\n",
       " '110534741480867943': {'TotalGames': 4, 'TotalWins': 1, 'winrate': 25.0},\n",
       " '110424397251619481': {'TotalGames': 7, 'TotalWins': 5, 'winrate': 71.43},\n",
       " '109671413728531527': {'TotalGames': 9, 'TotalWins': 8, 'winrate': 88.89},\n",
       " '110733870612047344': {'TotalGames': 7, 'TotalWins': 3, 'winrate': 42.86},\n",
       " '110733881542862348': {'TotalGames': 1, 'TotalWins': 0, 'winrate': 0},\n",
       " '105521293297166647': {'TotalGames': 7, 'TotalWins': 6, 'winrate': 85.71},\n",
       " '105521637552587612': {'TotalGames': 8, 'TotalWins': 6, 'winrate': 75.0},\n",
       " '107564167676290839': {'TotalGames': 1, 'TotalWins': 0, 'winrate': 0},\n",
       " '103877625775457850': {'TotalGames': 2, 'TotalWins': 0, 'winrate': 0.0},\n",
       " '102787200126663579': {'TotalGames': 4, 'TotalWins': 2, 'winrate': 50.0},\n",
       " '105532791598779236': {'TotalGames': 2, 'TotalWins': 1, 'winrate': 50.0},\n",
       " '107564135791716115': {'TotalGames': 2, 'TotalWins': 1, 'winrate': 50.0}}"
      ]
     },
     "execution_count": 118,
     "metadata": {},
     "output_type": "execute_result"
    }
   ],
   "source": [
    "WinRate"
   ]
  },
  {
   "cell_type": "code",
   "execution_count": 119,
   "id": "401c937f-45cd-4af0-8e60-e9f994d8aa91",
   "metadata": {},
   "outputs": [],
   "source": [
    "totgame = 0\n",
    "totwin = 0\n",
    "for team in WinRate:\n",
    "    totgame += WinRate[team]['TotalGames']\n",
    "    totwin += WinRate[team]['TotalWins']\n",
    "    "
   ]
  },
  {
   "cell_type": "code",
   "execution_count": 120,
   "id": "fee03302-84da-4596-b296-226ed6a00321",
   "metadata": {},
   "outputs": [
    {
     "data": {
      "text/plain": [
       "444"
      ]
     },
     "execution_count": 120,
     "metadata": {},
     "output_type": "execute_result"
    }
   ],
   "source": [
    "totgame"
   ]
  },
  {
   "cell_type": "code",
   "execution_count": 121,
   "id": "bb1d0429-2b76-4226-abe7-2f8936e9d909",
   "metadata": {},
   "outputs": [
    {
     "data": {
      "text/plain": [
       "222"
      ]
     },
     "execution_count": 121,
     "metadata": {},
     "output_type": "execute_result"
    }
   ],
   "source": [
    "totwin"
   ]
  },
  {
   "cell_type": "code",
   "execution_count": null,
   "id": "12be7c58-497b-49ad-88f2-cceefab8ac1b",
   "metadata": {},
   "outputs": [],
   "source": []
  }
 ],
 "metadata": {
  "kernelspec": {
   "display_name": "Python 3 (ipykernel)",
   "language": "python",
   "name": "python3"
  },
  "language_info": {
   "codemirror_mode": {
    "name": "ipython",
    "version": 3
   },
   "file_extension": ".py",
   "mimetype": "text/x-python",
   "name": "python",
   "nbconvert_exporter": "python",
   "pygments_lexer": "ipython3",
   "version": "3.9.12"
  }
 },
 "nbformat": 4,
 "nbformat_minor": 5
}

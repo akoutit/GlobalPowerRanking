{
 "cells": [
  {
   "cell_type": "code",
   "execution_count": 16,
   "id": "b12420e2-b45b-481c-a5ef-43d3bcff381d",
   "metadata": {},
   "outputs": [],
   "source": [
    "import json\n",
    "import os\n",
    "# Open the JSON file for reading\n",
    "with open('esports-data/mapping_data.json', 'r') as json_file:\n",
    "    data = json.load(json_file)\n",
    "\n",
    "# 'data' now contains the JSON data from the file\n"
   ]
  },
  {
   "cell_type": "code",
   "execution_count": null,
   "id": "10dbb032-971d-4a3d-acb9-6cf855ab66f8",
   "metadata": {},
   "outputs": [],
   "source": []
  },
  {
   "cell_type": "code",
   "execution_count": 17,
   "id": "91d85d71-d54b-4c6a-a393-7ffb5aedbe3d",
   "metadata": {},
   "outputs": [
    {
     "data": {
      "text/plain": [
       "{'esportsGameId': '110378429158160389',\n",
       " 'platformGameId': 'ESPORTSTMNT01:3416295',\n",
       " 'teamMapping': {'200': '105550026570060790', '100': '105550033967461806'},\n",
       " 'participantMapping': {'3': '107492116585043595',\n",
       "  '5': '105388980252039870',\n",
       "  '10': '110730240651882119',\n",
       "  '2': '108366332471078988',\n",
       "  '1': '108205130568869560',\n",
       "  '9': '106267600924403194',\n",
       "  '7': '106267599829820917',\n",
       "  '8': '107492063150003806',\n",
       "  '6': '105501816646382923',\n",
       "  '4': '102483272156027229'}}"
      ]
     },
     "execution_count": 17,
     "metadata": {},
     "output_type": "execute_result"
    }
   ],
   "source": [
    "data[0]"
   ]
  },
  {
   "cell_type": "code",
   "execution_count": 18,
   "id": "b741b243-6bf4-4e14-a2f5-bb31b5188022",
   "metadata": {},
   "outputs": [
    {
     "data": {
      "text/plain": [
       "'110378429158160389'"
      ]
     },
     "execution_count": 18,
     "metadata": {},
     "output_type": "execute_result"
    }
   ],
   "source": [
    "data[0]['esportsGameId']"
   ]
  },
  {
   "cell_type": "code",
   "execution_count": 19,
   "id": "9bb12ed9-02c7-4b42-8b56-e23a65b96ac8",
   "metadata": {},
   "outputs": [],
   "source": [
    "gameid = data[5000]['platformGameId']\n",
    "gameid = gameid[:13] + '_' + gameid[14:]"
   ]
  },
  {
   "cell_type": "code",
   "execution_count": 20,
   "id": "61565049-e065-459c-a96f-158cc7f65b6b",
   "metadata": {},
   "outputs": [
    {
     "name": "stdout",
     "output_type": "stream",
     "text": [
      "ESPORTSTMNT02_3158472\n"
     ]
    }
   ],
   "source": [
    "print(gameid)\n",
    "gameid = gameid[:12] + '1_3369698'"
   ]
  },
  {
   "cell_type": "code",
   "execution_count": 21,
   "id": "d2a1c438-79fd-4c4b-b4dc-708798dac7ee",
   "metadata": {},
   "outputs": [
    {
     "name": "stdout",
     "output_type": "stream",
     "text": [
      "games/ESPORTSTMNT01_3369698.json not found\n"
     ]
    }
   ],
   "source": [
    "path = 'games/' + gameid +'.json'\n",
    "if os.path.exists(path):\n",
    "    with open(path, 'r') as json_file:\n",
    "        game_data = json.load(json_file) \n",
    "else :\n",
    "    print(path, 'not found')"
   ]
  },
  {
   "cell_type": "code",
   "execution_count": 22,
   "id": "a07b6a3d-b358-4863-b095-73164336752d",
   "metadata": {},
   "outputs": [],
   "source": [
    "# game_data[-1]['winningTeam']"
   ]
  },
  {
   "cell_type": "code",
   "execution_count": 23,
   "id": "914d235b-ef9c-45d0-8672-5cdd79c424fc",
   "metadata": {},
   "outputs": [
    {
     "data": {
      "text/plain": [
       "{'esportsGameId': '110378429158160389',\n",
       " 'platformGameId': 'ESPORTSTMNT01:3416295',\n",
       " 'teamMapping': {'200': '105550026570060790', '100': '105550033967461806'},\n",
       " 'participantMapping': {'3': '107492116585043595',\n",
       "  '5': '105388980252039870',\n",
       "  '10': '110730240651882119',\n",
       "  '2': '108366332471078988',\n",
       "  '1': '108205130568869560',\n",
       "  '9': '106267600924403194',\n",
       "  '7': '106267599829820917',\n",
       "  '8': '107492063150003806',\n",
       "  '6': '105501816646382923',\n",
       "  '4': '102483272156027229'}}"
      ]
     },
     "execution_count": 23,
     "metadata": {},
     "output_type": "execute_result"
    }
   ],
   "source": [
    "data[0]"
   ]
  },
  {
   "cell_type": "code",
   "execution_count": 24,
   "id": "ad969508-50da-4fce-b297-787c024ddda1",
   "metadata": {},
   "outputs": [
    {
     "ename": "NameError",
     "evalue": "name 'game_data' is not defined",
     "output_type": "error",
     "traceback": [
      "\u001b[1;31m---------------------------------------------------------------------------\u001b[0m",
      "\u001b[1;31mNameError\u001b[0m                                 Traceback (most recent call last)",
      "\u001b[1;32mc:\\Users\\Norma\\OneDrive\\Desktop\\GlobalPowerRanking\\WinRate.ipynb Cell 10\u001b[0m line \u001b[0;36m3\n\u001b[0;32m      <a href='vscode-notebook-cell:/c%3A/Users/Norma/OneDrive/Desktop/GlobalPowerRanking/WinRate.ipynb#X12sZmlsZQ%3D%3D?line=0'>1</a>\u001b[0m win1 \u001b[39m=\u001b[39m \u001b[39m0\u001b[39m\n\u001b[0;32m      <a href='vscode-notebook-cell:/c%3A/Users/Norma/OneDrive/Desktop/GlobalPowerRanking/WinRate.ipynb#X12sZmlsZQ%3D%3D?line=1'>2</a>\u001b[0m win2 \u001b[39m=\u001b[39m \u001b[39m1\u001b[39m\n\u001b[1;32m----> <a href='vscode-notebook-cell:/c%3A/Users/Norma/OneDrive/Desktop/GlobalPowerRanking/WinRate.ipynb#X12sZmlsZQ%3D%3D?line=2'>3</a>\u001b[0m \u001b[39mif\u001b[39;00m game_data[\u001b[39m-\u001b[39m\u001b[39m1\u001b[39m][\u001b[39m'\u001b[39m\u001b[39mwinningTeam\u001b[39m\u001b[39m'\u001b[39m] \u001b[39m==\u001b[39m \u001b[39m100\u001b[39m:\n\u001b[0;32m      <a href='vscode-notebook-cell:/c%3A/Users/Norma/OneDrive/Desktop/GlobalPowerRanking/WinRate.ipynb#X12sZmlsZQ%3D%3D?line=3'>4</a>\u001b[0m     win1 \u001b[39m=\u001b[39m \u001b[39m1\u001b[39m\n\u001b[0;32m      <a href='vscode-notebook-cell:/c%3A/Users/Norma/OneDrive/Desktop/GlobalPowerRanking/WinRate.ipynb#X12sZmlsZQ%3D%3D?line=4'>5</a>\u001b[0m     win2 \u001b[39m=\u001b[39m \u001b[39m0\u001b[39m\n",
      "\u001b[1;31mNameError\u001b[0m: name 'game_data' is not defined"
     ]
    }
   ],
   "source": [
    "win1 = 0\n",
    "win2 = 1\n",
    "if game_data[-1]['winningTeam'] == 100:\n",
    "    win1 = 1\n",
    "    win2 = 0\n",
    "    \n",
    "team1 = data[0]['teamMapping']['100']\n",
    "if team1 in WinRate:\n",
    "    WinRate[team1] =  {'TotalGames':WinRate[team1]['TotalGames']+1, 'TotalWins':WinRate[team1]['TotalWins']+win1}\n",
    "else:\n",
    "    WinRate[team1] =  {'TotalGames':1, 'TotalWins':win1}\n",
    "if team2 in WinRate:\n",
    "    WinRate[team2] =  {'TotalGames':WinRate[team2]['TotalGames']+1, 'TotalWins':WinRate[team2]['TotalWins']+win2}\n",
    "else: \n",
    "    WinRate[team2] =  {'TotalGames':1, 'TotalWins':win2}"
   ]
  },
  {
   "cell_type": "code",
   "execution_count": null,
   "id": "f3c882a2-c5fd-491d-b6c7-5979f6620fc8",
   "metadata": {},
   "outputs": [
    {
     "data": {
      "text/plain": [
       "{'105550033967461806': {'TotalGames': 1, 'TotalWins': 1},\n",
       " '105550026570060790': {'TotalGames': 1, 'TotalWins': 0}}"
      ]
     },
     "execution_count": 86,
     "metadata": {},
     "output_type": "execute_result"
    }
   ],
   "source": [
    "WinRate "
   ]
  },
  {
   "cell_type": "code",
   "execution_count": null,
   "id": "7373baf2-278a-4f61-8d91-75dd5a28d458",
   "metadata": {},
   "outputs": [],
   "source": [
    "team1 = data[0]['teamMapping']['100']"
   ]
  },
  {
   "cell_type": "code",
   "execution_count": null,
   "id": "a30f61ca-9a95-4bcc-a9c0-29310959ab33",
   "metadata": {},
   "outputs": [
    {
     "data": {
      "text/plain": [
       "'105550033967461806'"
      ]
     },
     "execution_count": 70,
     "metadata": {},
     "output_type": "execute_result"
    }
   ],
   "source": [
    "team1"
   ]
  },
  {
   "cell_type": "code",
   "execution_count": null,
   "id": "1494a850-8f04-4a14-98e1-7c391c1ecdda",
   "metadata": {},
   "outputs": [],
   "source": [
    "team2 = data[0]['teamMapping']['200']"
   ]
  },
  {
   "cell_type": "code",
   "execution_count": null,
   "id": "1aa62460-4a57-4275-a618-3a72c7acca2d",
   "metadata": {},
   "outputs": [
    {
     "data": {
      "text/plain": [
       "'105550026570060790'"
      ]
     },
     "execution_count": 73,
     "metadata": {},
     "output_type": "execute_result"
    }
   ],
   "source": [
    "team2"
   ]
  },
  {
   "cell_type": "code",
   "execution_count": null,
   "id": "951edd62-7e80-414e-aca4-93d3ec2f3c8f",
   "metadata": {},
   "outputs": [],
   "source": [
    "WinRate[team2] =  {'TotalGames':WinRate[team2]['TotalGames']+1, 'TotalWins':WinRate[team2]['TotalWins']+win2}"
   ]
  },
  {
   "cell_type": "code",
   "execution_count": null,
   "id": "0abb6d3f-9082-45ec-a65f-f95689ade1c8",
   "metadata": {},
   "outputs": [
    {
     "data": {
      "text/plain": [
       "{'105550026570060790': {'TotalGames': 7, 'TotalWins': 1}}"
      ]
     },
     "execution_count": 77,
     "metadata": {},
     "output_type": "execute_result"
    }
   ],
   "source": [
    "WinRate"
   ]
  },
  {
   "cell_type": "code",
   "execution_count": null,
   "id": "cf48d152-9da4-438f-9b1b-c1511628a5e2",
   "metadata": {},
   "outputs": [
    {
     "data": {
      "text/plain": [
       "False"
      ]
     },
     "execution_count": 81,
     "metadata": {},
     "output_type": "execute_result"
    }
   ],
   "source": [
    "team1 in WinRate"
   ]
  },
  {
   "cell_type": "code",
   "execution_count": null,
   "id": "29f2e018-c35f-4df1-87fc-f4f1fa7e9ae6",
   "metadata": {},
   "outputs": [
    {
     "name": "stdout",
     "output_type": "stream",
     "text": [
      "\f\n",
      "\n"
     ]
    }
   ],
   "source": [
    "clear()"
   ]
  },
  {
   "cell_type": "code",
   "execution_count": null,
   "id": "19995110-bae2-45f0-a680-3b2ddf6842c3",
   "metadata": {},
   "outputs": [
    {
     "data": {
      "text/plain": [
       "1"
      ]
     },
     "execution_count": 88,
     "metadata": {},
     "output_type": "execute_result"
    }
   ],
   "source": [
    "win1"
   ]
  },
  {
   "cell_type": "code",
   "execution_count": 25,
   "id": "dd7b0767-47b3-4240-92cb-e4045df8b7a4",
   "metadata": {},
   "outputs": [
    {
     "name": "stdout",
     "output_type": "stream",
     "text": [
      "0 %\n",
      "<_io.TextIOWrapper name='games/ESPORTSTMNT03_3198611.json' mode='r' encoding='cp65001'>\n",
      "<_io.TextIOWrapper name='games/ESPORTSTMNT03_3196057.json' mode='r' encoding='cp65001'>\n",
      "<_io.TextIOWrapper name='games/ESPORTSTMNT03_3196058.json' mode='r' encoding='cp65001'>\n",
      "<_io.TextIOWrapper name='games/ESPORTSTMNT03_3166463.json' mode='r' encoding='cp65001'>\n",
      "<_io.TextIOWrapper name='games/ESPORTSTMNT03_3200613.json' mode='r' encoding='cp65001'>\n",
      "<_io.TextIOWrapper name='games/ESPORTSTMNT03_3198299.json' mode='r' encoding='cp65001'>\n",
      "3 %\n",
      "<_io.TextIOWrapper name='games/ESPORTSTMNT03_3198621.json' mode='r' encoding='cp65001'>\n",
      "<_io.TextIOWrapper name='games/ESPORTSTMNT03_3198296.json' mode='r' encoding='cp65001'>\n",
      "<_io.TextIOWrapper name='games/ESPORTSTMNT03_3200609.json' mode='r' encoding='cp65001'>\n",
      "<_io.TextIOWrapper name='games/ESPORTSTMNT03_3197205.json' mode='r' encoding='cp65001'>\n",
      "<_io.TextIOWrapper name='games/ESPORTSTMNT03_3199703.json' mode='r' encoding='cp65001'>\n",
      "<_io.TextIOWrapper name='games/ESPORTSTMNT03_3200168.json' mode='r' encoding='cp65001'>\n",
      "<_io.TextIOWrapper name='games/ESPORTSTMNT03_3200165.json' mode='r' encoding='cp65001'>\n",
      "<_io.TextIOWrapper name='games/ESPORTSTMNT03_3198206.json' mode='r' encoding='cp65001'>\n",
      "7 %\n",
      "<_io.TextIOWrapper name='games/ESPORTSTMNT03_3195300.json' mode='r' encoding='cp65001'>\n",
      "<_io.TextIOWrapper name='games/ESPORTSTMNT03_3199520.json' mode='r' encoding='cp65001'>\n",
      "<_io.TextIOWrapper name='games/ESPORTSTMNT03_3198544.json' mode='r' encoding='cp65001'>\n",
      "<_io.TextIOWrapper name='games/ESPORTSTMNT03_3200614.json' mode='r' encoding='cp65001'>\n",
      "<_io.TextIOWrapper name='games/ESPORTSTMNT03_3199274.json' mode='r' encoding='cp65001'>\n",
      "<_io.TextIOWrapper name='games/ESPORTSTMNT03_3198199.json' mode='r' encoding='cp65001'>\n",
      "<_io.TextIOWrapper name='games/ESPORTSTMNT03_3198741.json' mode='r' encoding='cp65001'>\n",
      "<_io.TextIOWrapper name='games/ESPORTSTMNT01_3382983.json' mode='r' encoding='cp65001'>\n",
      "11 %\n",
      "<_io.TextIOWrapper name='games/ESPORTSTMNT03_3198737.json' mode='r' encoding='cp65001'>\n",
      "<_io.TextIOWrapper name='games/ESPORTSTMNT03_3199526.json' mode='r' encoding='cp65001'>\n",
      "<_io.TextIOWrapper name='games/ESPORTSTMNT03_3198727.json' mode='r' encoding='cp65001'>\n",
      "<_io.TextIOWrapper name='games/ESPORTSTMNT03_3198292.json' mode='r' encoding='cp65001'>\n",
      "<_io.TextIOWrapper name='games/ESPORTSTMNT03_3200722.json' mode='r' encoding='cp65001'>\n",
      "<_io.TextIOWrapper name='games/ESPORTSTMNT03_3199525.json' mode='r' encoding='cp65001'>\n",
      "<_io.TextIOWrapper name='games/ESPORTSTMNT03_3198196.json' mode='r' encoding='cp65001'>\n",
      "<_io.TextIOWrapper name='games/ESPORTSTMNT03_3199172.json' mode='r' encoding='cp65001'>\n",
      "<_io.TextIOWrapper name='games/ESPORTSTMNT03_3200539.json' mode='r' encoding='cp65001'>\n",
      "<_io.TextIOWrapper name='games/ESPORTSTMNT03_3200543.json' mode='r' encoding='cp65001'>\n",
      "<_io.TextIOWrapper name='games/ESPORTSTMNT03_3200607.json' mode='r' encoding='cp65001'>\n",
      "<_io.TextIOWrapper name='games/ESPORTSTMNT03_3197195.json' mode='r' encoding='cp65001'>\n",
      "<_io.TextIOWrapper name='games/ESPORTSTMNT03_3200718.json' mode='r' encoding='cp65001'>\n",
      "<_io.TextIOWrapper name='games/ESPORTSTMNT03_3200536.json' mode='r' encoding='cp65001'>\n",
      "<_io.TextIOWrapper name='games/ESPORTSTMNT03_3198185.json' mode='r' encoding='cp65001'>\n",
      "<_io.TextIOWrapper name='games/ESPORTSTMNT03_3198740.json' mode='r' encoding='cp65001'>\n",
      "<_io.TextIOWrapper name='games/ESPORTSTMNT03_3198298.json' mode='r' encoding='cp65001'>\n",
      "<_io.TextIOWrapper name='games/ESPORTSTMNT03_3195262.json' mode='r' encoding='cp65001'>\n",
      "<_io.TextIOWrapper name='games/ESPORTSTMNT03_3198622.json' mode='r' encoding='cp65001'>\n",
      "<_io.TextIOWrapper name='games/ESPORTSTMNT03_3200156.json' mode='r' encoding='cp65001'>\n",
      "<_io.TextIOWrapper name='games/ESPORTSTMNT03_3196037.json' mode='r' encoding='cp65001'>\n",
      "<_io.TextIOWrapper name='games/ESPORTSTMNT03_3198553.json' mode='r' encoding='cp65001'>\n",
      "15 %\n",
      "<_io.TextIOWrapper name='games/ESPORTSTMNT03_3200605.json' mode='r' encoding='cp65001'>\n",
      "<_io.TextIOWrapper name='games/ESPORTSTMNT03_3198623.json' mode='r' encoding='cp65001'>\n",
      "<_io.TextIOWrapper name='games/ESPORTSTMNT03_3198743.json' mode='r' encoding='cp65001'>\n",
      "<_io.TextIOWrapper name='games/ESPORTSTMNT03_3198744.json' mode='r' encoding='cp65001'>\n",
      "<_io.TextIOWrapper name='games/ESPORTSTMNT03_3199528.json' mode='r' encoding='cp65001'>\n",
      "<_io.TextIOWrapper name='games/ESPORTSTMNT03_3198183.json' mode='r' encoding='cp65001'>\n",
      "<_io.TextIOWrapper name='games/ESPORTSTMNT03_3195276.json' mode='r' encoding='cp65001'>\n",
      "<_io.TextIOWrapper name='games/ESPORTSTMNT03_3198546.json' mode='r' encoding='cp65001'>\n",
      "<_io.TextIOWrapper name='games/ESPORTSTMNT03_3197025.json' mode='r' encoding='cp65001'>\n",
      "<_io.TextIOWrapper name='games/ESPORTSTMNT03_3196049.json' mode='r' encoding='cp65001'>\n",
      "19 %\n",
      "<_io.TextIOWrapper name='games/ESPORTSTMNT03_3197182.json' mode='r' encoding='cp65001'>\n",
      "<_io.TextIOWrapper name='games/ESPORTSTMNT03_3196051.json' mode='r' encoding='cp65001'>\n",
      "<_io.TextIOWrapper name='games/ESPORTSTMNT03_3199178.json' mode='r' encoding='cp65001'>\n",
      "<_io.TextIOWrapper name='games/ESPORTSTMNT03_3196275.json' mode='r' encoding='cp65001'>\n",
      "<_io.TextIOWrapper name='games/ESPORTSTMNT03_3166786.json' mode='r' encoding='cp65001'>\n",
      "<_io.TextIOWrapper name='games/ESPORTSTMNT03_3198294.json' mode='r' encoding='cp65001'>\n",
      "23 %\n",
      "<_io.TextIOWrapper name='games/ESPORTSTMNT03_3197014.json' mode='r' encoding='cp65001'>\n",
      "27 %\n",
      "<_io.TextIOWrapper name='games/ESPORTSTMNT03_3195064.json' mode='r' encoding='cp65001'>\n",
      "<_io.TextIOWrapper name='games/ESPORTSTMNT03_3198612.json' mode='r' encoding='cp65001'>\n",
      "31 %\n",
      "<_io.TextIOWrapper name='games/ESPORTSTMNT01_3383508.json' mode='r' encoding='cp65001'>\n",
      "35 %\n",
      "<_io.TextIOWrapper name='games/ESPORTSTMNT03_3165885.json' mode='r' encoding='cp65001'>\n",
      "39 %\n",
      "<_io.TextIOWrapper name='games/ESPORTSTMNT01_3369750.json' mode='r' encoding='cp65001'>\n",
      "<_io.TextIOWrapper name='games/ESPORTSTMNT03_3166491.json' mode='r' encoding='cp65001'>\n",
      "43 %\n",
      "47 %\n",
      "51 %\n",
      "<_io.TextIOWrapper name='games/ESPORTSTMNT01_3370824.json' mode='r' encoding='cp65001'>\n",
      "<_io.TextIOWrapper name='games/ESPORTSTMNT03_3166207.json' mode='r' encoding='cp65001'>\n",
      "55 %\n",
      "<_io.TextIOWrapper name='games/ESPORTSTMNT03_3167447.json' mode='r' encoding='cp65001'>\n",
      "59 %\n",
      "<_io.TextIOWrapper name='games/ESPORTSTMNT01_3383851.json' mode='r' encoding='cp65001'>\n",
      "63 %\n",
      "<_io.TextIOWrapper name='games/ESPORTSTMNT01_3372328.json' mode='r' encoding='cp65001'>\n",
      "<_io.TextIOWrapper name='games/ESPORTSTMNT03_3167097.json' mode='r' encoding='cp65001'>\n",
      "67 %\n",
      "<_io.TextIOWrapper name='games/ESPORTSTMNT01_3385039.json' mode='r' encoding='cp65001'>\n",
      "71 %\n",
      "75 %\n",
      "<_io.TextIOWrapper name='games/ESPORTSTMNT01_3373407.json' mode='r' encoding='cp65001'>\n",
      "79 %\n",
      "<_io.TextIOWrapper name='games/ESPORTSTMNT01_3374235.json' mode='r' encoding='cp65001'>\n",
      "83 %\n",
      "87 %\n",
      "90 %\n",
      "<_io.TextIOWrapper name='games/ESPORTSTMNT03_3165797.json' mode='r' encoding='cp65001'>\n",
      "94 %\n",
      "<_io.TextIOWrapper name='games/ESPORTSTMNT01_3383466.json' mode='r' encoding='cp65001'>\n",
      "98 %\n"
     ]
    }
   ],
   "source": [
    "import json\n",
    "import os\n",
    "\n",
    "WinRate = {}\n",
    "# Open the JSON file for reading\n",
    "with open('esports-data/mapping_data.json', 'r') as json_file:\n",
    "    data = json.load(json_file)\n",
    "    \n",
    "    \n",
    "for i in range(len(data)):\n",
    "    gameid = data[i]['platformGameId']\n",
    "    gameid = gameid[:13] + '_' + gameid[14:]\n",
    "    path = 'games/' + gameid +'.json'\n",
    "    if os.path.exists(path):\n",
    "        with open(path, 'r') as json_file:\n",
    "            print(json_file)\n",
    "            game_data = json.load(json_file) \n",
    "\n",
    "        \n",
    "        win1 = 0\n",
    "        win2 = 1\n",
    "        if game_data[-1]['winningTeam'] == 100:\n",
    "            win1 = 1\n",
    "            win2 = 0\n",
    "\n",
    "        team1 = data[i]['teamMapping']['100']\n",
    "        team2 = data[i]['teamMapping']['200']\n",
    "        if team1 in WinRate:\n",
    "            WinRate[team1] =  {'TotalGames':WinRate[team1]['TotalGames']+1, 'TotalWins':WinRate[team1]['TotalWins']+win1, 'winrate':round((WinRate[team1]['TotalWins']+win1)/(WinRate[team1]['TotalGames']+1)*100,2)}\n",
    "        else:\n",
    "            WinRate[team1] =  {'TotalGames':1, 'TotalWins':win1, 'winrate' : win1*100}\n",
    "        if team2 in WinRate:\n",
    "            WinRate[team2] =  {'TotalGames':WinRate[team2]['TotalGames']+1, 'TotalWins':WinRate[team2]['TotalWins']+win2, 'winrate':round((WinRate[team2]['TotalWins']+win2)/(WinRate[team2]['TotalGames']+1)*100,2)}\n",
    "        else: \n",
    "            WinRate[team2] =  {'TotalGames':1, 'TotalWins':win2, 'winrate' : win2*100}\n",
    "\n",
    "    if i%1000 == 0:\n",
    "        print(int(i/len(data)*100), '%')\n",
    "        \n",
    "    \n",
    "\n",
    "\n",
    "    "
   ]
  },
  {
   "cell_type": "code",
   "execution_count": 32,
   "id": "7fcb10dc-072b-4a42-8e5f-aa394f7868fe",
   "metadata": {},
   "outputs": [
    {
     "name": "stdout",
     "output_type": "stream",
     "text": [
      "{'109981650516317055': {'TotalGames': 12, 'TotalWins': 11, 'winrate': 91.67, 'index': 0}, '110534696811298545': {'TotalGames': 8, 'TotalWins': 3, 'winrate': 37.5, 'index': 13}, '110733870612047344': {'TotalGames': 12, 'TotalWins': 7, 'winrate': 58.33, 'index': 5}, '110534728305628996': {'TotalGames': 5, 'TotalWins': 2, 'winrate': 40.0, 'index': 12}, '110733877357854829': {'TotalGames': 8, 'TotalWins': 4, 'winrate': 50.0, 'index': 8}, '110534732558665825': {'TotalGames': 5, 'TotalWins': 1, 'winrate': 20.0, 'index': 20}, '105521674055625312': {'TotalGames': 3, 'TotalWins': 1, 'winrate': 33.33, 'index': 14}, '105521706535388095': {'TotalGames': 7, 'TotalWins': 6, 'winrate': 85.71, 'index': 1}, '110733864366329081': {'TotalGames': 7, 'TotalWins': 5, 'winrate': 71.43, 'index': 3}, '107580497041999074': {'TotalGames': 14, 'TotalWins': 7, 'winrate': 50.0, 'index': 9}, '110534700622694005': {'TotalGames': 4, 'TotalWins': 0, 'winrate': 0.0, 'index': 21}, '107580483738977500': {'TotalGames': 12, 'TotalWins': 7, 'winrate': 58.33, 'index': 6}, '109783149221216052': {'TotalGames': 7, 'TotalWins': 4, 'winrate': 57.14, 'index': 7}, '110733889090164854': {'TotalGames': 7, 'TotalWins': 2, 'winrate': 28.57, 'index': 17}, '109981647134921596': {'TotalGames': 4, 'TotalWins': 1, 'winrate': 25.0, 'index': 19}, '110534714934488523': {'TotalGames': 6, 'TotalWins': 2, 'winrate': 33.33, 'index': 15}, '102787200149928963': {'TotalGames': 7, 'TotalWins': 6, 'winrate': 85.71, 'index': 2}, '110534741480867943': {'TotalGames': 7, 'TotalWins': 3, 'winrate': 42.86, 'index': 11}, '110733881542862348': {'TotalGames': 2, 'TotalWins': 1, 'winrate': 50.0, 'index': 10}, '109671413728531527': {'TotalGames': 3, 'TotalWins': 0, 'winrate': 0.0, 'index': 22}, '105521637552587612': {'TotalGames': 7, 'TotalWins': 2, 'winrate': 28.57, 'index': 18}, '108078422885368642': {'TotalGames': 3, 'TotalWins': 2, 'winrate': 66.67, 'index': 4}, '107067065368380132': {'TotalGames': 3, 'TotalWins': 1, 'winrate': 33.33, 'index': 16}, '105521293297166647': {'TotalGames': 3, 'TotalWins': 0, 'winrate': 0.0, 'index': 23}}\n",
      "{'109981650516317055': {'TotalGames': 12, 'TotalWins': 11, 'winrate': 91.67}, '110534696811298545': {'TotalGames': 8, 'TotalWins': 3, 'winrate': 37.5}, '110733870612047344': {'TotalGames': 12, 'TotalWins': 7, 'winrate': 58.33}, '110534728305628996': {'TotalGames': 5, 'TotalWins': 2, 'winrate': 40.0}, '110733877357854829': {'TotalGames': 8, 'TotalWins': 4, 'winrate': 50.0}, '110534732558665825': {'TotalGames': 5, 'TotalWins': 1, 'winrate': 20.0}, '105521674055625312': {'TotalGames': 3, 'TotalWins': 1, 'winrate': 33.33}, '105521706535388095': {'TotalGames': 7, 'TotalWins': 6, 'winrate': 85.71}, '110733864366329081': {'TotalGames': 7, 'TotalWins': 5, 'winrate': 71.43}, '107580497041999074': {'TotalGames': 14, 'TotalWins': 7, 'winrate': 50.0}, '110534700622694005': {'TotalGames': 4, 'TotalWins': 0, 'winrate': 0.0}, '107580483738977500': {'TotalGames': 12, 'TotalWins': 7, 'winrate': 58.33}, '109783149221216052': {'TotalGames': 7, 'TotalWins': 4, 'winrate': 57.14}, '110733889090164854': {'TotalGames': 7, 'TotalWins': 2, 'winrate': 28.57}, '109981647134921596': {'TotalGames': 4, 'TotalWins': 1, 'winrate': 25.0}, '110534714934488523': {'TotalGames': 6, 'TotalWins': 2, 'winrate': 33.33}, '102787200149928963': {'TotalGames': 7, 'TotalWins': 6, 'winrate': 85.71}, '110534741480867943': {'TotalGames': 7, 'TotalWins': 3, 'winrate': 42.86}, '110733881542862348': {'TotalGames': 2, 'TotalWins': 1, 'winrate': 50.0}, '109671413728531527': {'TotalGames': 3, 'TotalWins': 0, 'winrate': 0.0}, '105521637552587612': {'TotalGames': 7, 'TotalWins': 2, 'winrate': 28.57}, '108078422885368642': {'TotalGames': 3, 'TotalWins': 2, 'winrate': 66.67}, '107067065368380132': {'TotalGames': 3, 'TotalWins': 1, 'winrate': 33.33}, '105521293297166647': {'TotalGames': 3, 'TotalWins': 0, 'winrate': 0.0}}\n"
     ]
    }
   ],
   "source": [
    "final_game_stats = WinRate.copy()\n",
    "index = 0\n",
    "for team in final_game_stats:\n",
    "    index = index +1\n",
    "print(final_game_stats)"
   ]
  },
  {
   "cell_type": "markdown",
   "id": "09d2007b",
   "metadata": {},
   "source": [
    "## Bayesian average\n",
    "We are going to implement the bayesian average formula to give a score to each team using the win rate and the total of games played, the formula for the score is the following:\n",
    "$$score = \\frac{\\text{winRate}* \\text{NumberOfGamesPlayed} + \\text{C} *\\text{m}}{\\text{NumberOfGamesPlayed} + \\text{C}}$$\n",
    "\n",
    "Where m and C are constants.\n",
    "m is the average win rate of all the teams, and C is calculated based on the distribution of the played games for each team, where C is equal to the 25% percentile (= the lower quartile)\n",
    "\n",
    "\n",
    "Source : https://www.algolia.com/doc/guides/managing-results/must-do/custom-ranking/how-to/bayesian-average/"
   ]
  },
  {
   "cell_type": "code",
   "execution_count": 59,
   "id": "12be7c58-497b-49ad-88f2-cceefab8ac1b",
   "metadata": {},
   "outputs": [
    {
     "name": "stdout",
     "output_type": "stream",
     "text": [
      "m : 43.64500000000001\n",
      "C  6\n"
     ]
    }
   ],
   "source": [
    "# defining C and m\n",
    "m = 0\n",
    "sorted_list = []\n",
    "for team in final_game_stats:\n",
    "    m += final_game_stats[team][\"winrate\"]\n",
    "m /= len(final_game_stats)\n",
    "print(\"m :\", m)\n",
    "\n",
    "#Sorting the final_game_stats by win rate\n",
    "sorted_game_stats = {k: v for k, v in sorted(final_game_stats.items(), key=lambda item: item[1]['winrate'], reverse=True)}\n",
    "sorted_game_stats\n",
    "\n",
    "# Getting the 25% percentile total games\n",
    "keys = list(sorted_game_stats.keys())\n",
    "C_index = max(0,len(sorted_game_stats)- (len(sorted_game_stats) // 3) - 1)\n",
    "C = final_game_stats[keys[C_index]][\"TotalGames\"]\n",
    "print(\"C \" , C)\n"
   ]
  },
  {
   "cell_type": "code",
   "execution_count": 60,
   "id": "c6d370b5",
   "metadata": {},
   "outputs": [],
   "source": [
    "# Function that calculates the score\n",
    "def bayesian_score(teamStat):\n",
    "    global C\n",
    "    global m\n",
    "    totGames = teamStat[\"TotalGames\"]\n",
    "    return (teamStat[\"winrate\"]*totGames+C*m)/(totGames + C)"
   ]
  },
  {
   "cell_type": "code",
   "execution_count": 62,
   "id": "5207f24b",
   "metadata": {},
   "outputs": [
    {
     "name": "stdout",
     "output_type": "stream",
     "text": [
      "109981650516317055 75.66166666666668\n",
      "105521706535388095 66.2953846153846\n",
      "102787200149928963 66.2953846153846\n",
      "110733864366329081 58.60615384615385\n",
      "108078422885368642 51.32000000000001\n",
      "110733870612047344 53.43500000000001\n",
      "107580483738977500 53.43500000000001\n",
      "109783149221216052 50.91153846153847\n",
      "110733877357854829 47.27642857142858\n",
      "107580497041999074 48.093500000000006\n",
      "110733881542862348 45.23375000000001\n",
      "110534741480867943 43.2223076923077\n",
      "110534728305628996 41.98818181818182\n",
      "110534696811298545 40.133571428571436\n",
      "105521674055625312 40.20666666666668\n",
      "110534714934488523 38.487500000000004\n",
      "107067065368380132 40.20666666666668\n",
      "110733889090164854 35.52769230769231\n",
      "105521637552587612 35.52769230769231\n",
      "109981647134921596 36.187000000000005\n",
      "110534732558665825 32.897272727272735\n",
      "110534700622694005 26.187000000000005\n",
      "109671413728531527 29.096666666666675\n",
      "105521293297166647 29.096666666666675\n"
     ]
    }
   ],
   "source": [
    "# Calculate the score of each team\n",
    "for i in sorted_game_stats:\n",
    "    print(i ,  bayesian_score(sorted_game_stats[i]))"
   ]
  }
 ],
 "metadata": {
  "kernelspec": {
   "display_name": "Python 3 (ipykernel)",
   "language": "python",
   "name": "python3"
  },
  "language_info": {
   "codemirror_mode": {
    "name": "ipython",
    "version": 3
   },
   "file_extension": ".py",
   "mimetype": "text/x-python",
   "name": "python",
   "nbconvert_exporter": "python",
   "pygments_lexer": "ipython3",
   "version": "3.11.2"
  }
 },
 "nbformat": 4,
 "nbformat_minor": 5
}
